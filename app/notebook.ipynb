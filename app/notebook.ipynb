{
 "cells": [
  {
   "cell_type": "code",
   "execution_count": 18,
   "metadata": {},
   "outputs": [],
   "source": [
    "import json\n",
    "import http.client\n",
    "from os import getenv\n",
    "from dotenv import load_dotenv\n",
    "load_dotenv()\n",
    "\n",
    "API_FOOTBALL_KEY = getenv('API_FOOTBALL_KEY')\n",
    "\n",
    "def get_football_data(league_id: int, season: int) -> str:\n",
    "    conn = http.client.HTTPSConnection(\"api-football-v1.p.rapidapi.com\")\n",
    "\n",
    "    headers = {\n",
    "        'X-RapidAPI-Key': API_FOOTBALL_KEY,\n",
    "        'X-RapidAPI-Host': \"api-football-v1.p.rapidapi.com\"\n",
    "    }\n",
    "\n",
    "    print(headers)\n",
    "\n",
    "    conn.request(\"GET\", f\"/v3/standings?season={season}&league={league_id}\", headers=headers)\n",
    "\n",
    "    res = conn.getresponse()\n",
    "    data = res.read()\n",
    "\n",
    "    return data.decode(\"utf-8\")\n",
    "    \n",
    "def organize_data(data_json):\n",
    "    organized_data = {\n",
    "        \"league_info\": {\n",
    "            \"id\": data_json[\"response\"][0][\"league\"][\"id\"],\n",
    "            \"name\": data_json[\"response\"][0][\"league\"][\"name\"],\n",
    "            \"country\": data_json[\"response\"][0][\"league\"][\"country\"],\n",
    "            \"logo\": data_json[\"response\"][0][\"league\"][\"logo\"],\n",
    "            \"flag\": data_json[\"response\"][0][\"league\"][\"flag\"],\n",
    "            \"season\": data_json[\"response\"][0][\"league\"][\"season\"],\n",
    "        },\n",
    "        \"standings\": []\n",
    "    }\n",
    "\n",
    "    for entry in data_json[\"response\"][0][\"league\"][\"standings\"][0]:\n",
    "        team_data = {\n",
    "            \"rank\": entry[\"rank\"],\n",
    "            \"team_id\": entry[\"team\"][\"id\"],\n",
    "            \"team_name\": entry[\"team\"][\"name\"],\n",
    "            \"points\": entry[\"points\"],\n",
    "            \"goalsDiff\": entry[\"goalsDiff\"],\n",
    "            \"form\": entry[\"form\"],\n",
    "        }\n",
    "        organized_data[\"standings\"].append(team_data)\n",
    "\n",
    "    return organized_data\n"
   ]
  },
  {
   "cell_type": "code",
   "execution_count": 19,
   "metadata": {},
   "outputs": [],
   "source": [
    "# Reading data from file\n",
    "with open('data.json', 'r') as f:\n",
    "    data = json.load(f)\n",
    "\n",
    "org_data_json = organize_data(data)\n",
    "\n",
    "# Saving org_data_json to a file\n",
    "with open('org_data.json', 'w') as f:\n",
    "    json.dump(org_data_json, f)\n"
   ]
  },
  {
   "cell_type": "markdown",
   "metadata": {},
   "source": [
    "### Enviando dados para o banco"
   ]
  },
  {
   "cell_type": "code",
   "execution_count": null,
   "metadata": {},
   "outputs": [],
   "source": [
    "from pymongo import MongoClient\n",
    "load_dotenv()\n",
    "MONGODB_URI = getenv('MONGODB_URI')\n",
    "DB_NAME = getenv('DB_NAME')\n",
    "COLLECTION_NAME = getenv('COLLECTION_NAME')\n",
    "\n",
    "client = MongoClient(MONGODB_URI)\n",
    "\n",
    "# Seleciona o banco de dados e a coleção\n",
    "db = client[DB_NAME]\n",
    "collection = db[COLLECTION_NAME]\n",
    "\n",
    "# Inserindo/Atualizando dados no MongoDB\n",
    "collection.update_one({\"league_info.id\": 39, \"league_info.season\": 2023}, {\n",
    "    \"$set\": data}, upsert=True)\n"
   ]
  }
 ],
 "metadata": {
  "kernelspec": {
   "display_name": "Python 3.10.11 64-bit (microsoft store)",
   "language": "python",
   "name": "python3"
  },
  "language_info": {
   "codemirror_mode": {
    "name": "ipython",
    "version": 3
   },
   "file_extension": ".py",
   "mimetype": "text/x-python",
   "name": "python",
   "nbconvert_exporter": "python",
   "pygments_lexer": "ipython3",
   "version": "3.10.11"
  },
  "orig_nbformat": 4,
  "vscode": {
   "interpreter": {
    "hash": "f32617a689444612082f37042778a5b37ebae2f334035edd7ccda8e0db02d138"
   }
  }
 },
 "nbformat": 4,
 "nbformat_minor": 2
}
